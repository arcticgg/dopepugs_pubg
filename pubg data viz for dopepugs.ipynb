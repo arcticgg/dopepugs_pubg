{
 "cells": [
  {
   "cell_type": "code",
   "execution_count": 6,
   "metadata": {},
   "outputs": [],
   "source": [
    "import pandas as pd\n",
    "from pandas.plotting import scatter_matrix\n",
    "from matplotlib import pyplot as plt\n",
    "%matplotlib inline\n",
    "from pandas import DataFrame"
   ]
  },
  {
   "cell_type": "code",
   "execution_count": 7,
   "metadata": {},
   "outputs": [],
   "source": [
    "arctic=pd.read_csv('arcticgg.csv', index_col=\"Statistics\")\n",
    "sly=pd.read_csv('1838.csv', index_col=\"Statistics\")\n",
    "shat=pd.read_csv('shat.csv', index_col=\"Statistics\")\n",
    "snky=pd.read_csv('snky.csv', index_col=\"Statistics\")\n",
    "nanm=pd.read_csv('nanm.csv', index_col=\"Statistics\")\n",
    "zax=pd.read_csv('zax.csv', index_col=\"Statistics\")\n",
    "zack=pd.read_csv('zack.csv', index_col=\"Statistics\")\n",
    "cort=pd.read_csv('cort.csv', index_col=\"Statistics\")\n",
    "sorn=pd.read_csv('sorn.csv', index_col=\"Statistics\")"
   ]
  },
  {
   "cell_type": "code",
   "execution_count": 8,
   "metadata": {},
   "outputs": [],
   "source": [
    "arctic.drop(['Solo','Duo'], axis=1, inplace = True) ##the next 3 commands are ran for each file\n",
    "arctic.drop([\"Rank Points\", \"Daily Wins\", \"Weekly Wins\" ,\"Rank Points Title\"], axis=0, inplace=True)##\n",
    "arctic.rename(columns = {\"Squad\": \"Arctic\"}, inplace = True) ## "
   ]
  },
  {
   "cell_type": "code",
   "execution_count": 9,
   "metadata": {},
   "outputs": [],
   "source": [
    "shat.drop(['Solo','Duo'], axis=1, inplace = True) ##the next 3 commands are ran for each file\n",
    "shat.drop([\"Rank Points\", \"Daily Wins\", \"Weekly Wins\" ,\"Rank Points Title\"], axis=0, inplace=True)##\n",
    "shat.rename(columns = {\"Squad\": \"Shat\"}, inplace = True) ## "
   ]
  },
  {
   "cell_type": "code",
   "execution_count": 10,
   "metadata": {},
   "outputs": [],
   "source": [
    "sly.drop(['Solo','Duo'], axis=1, inplace = True) ##the next 3 commands are ran for each file\n",
    "sly.drop([\"Rank Points\", \"Daily Wins\", \"Weekly Wins\" ,\"Rank Points Title\"], axis=0, inplace=True)##\n",
    "sly.rename(columns = {\"Squad\": \"Sly\"}, inplace = True) ## "
   ]
  },
  {
   "cell_type": "code",
   "execution_count": 11,
   "metadata": {},
   "outputs": [],
   "source": [
    "snky.drop(['Solo','Duo'], axis=1, inplace = True) ##the next 3 commands are ran for each file\n",
    "snky.drop([\"Rank Points\", \"Daily Wins\", \"Weekly Wins\" ,\"Rank Points Title\"], axis=0, inplace=True)##\n",
    "snky.rename(columns = {\"Squad\": \"Snky\"}, inplace = True) ## "
   ]
  },
  {
   "cell_type": "code",
   "execution_count": 12,
   "metadata": {},
   "outputs": [],
   "source": [
    "nanm.drop(['Solo','Duo'], axis=1, inplace = True) ##the next 3 commands are ran for each file\n",
    "nanm.drop([\"Rank Points\", \"Daily Wins\", \"Weekly Wins\" ,\"Rank Points Title\"], axis=0, inplace=True)##\n",
    "nanm.rename(columns = {\"Squad\": \"Nanm\"}, inplace = True) ## "
   ]
  },
  {
   "cell_type": "code",
   "execution_count": 13,
   "metadata": {},
   "outputs": [],
   "source": [
    "zax.drop(['Solo','Duo'], axis=1, inplace = True) ##the next 3 commands are ran for each file\n",
    "zax.drop([\"Rank Points\", \"Daily Wins\", \"Weekly Wins\" ,\"Rank Points Title\"], axis=0, inplace=True)##\n",
    "zax.rename(columns = {\"Squad\": \"Zax\"}, inplace = True) ## "
   ]
  },
  {
   "cell_type": "code",
   "execution_count": 14,
   "metadata": {},
   "outputs": [],
   "source": [
    "zack.drop(['Solo','Duo'], axis=1, inplace = True) ##the next 3 commands are ran for each file\n",
    "zack.drop([\"Rank Points\", \"Daily Wins\", \"Weekly Wins\" ,\"Rank Points Title\"], axis=0, inplace=True)##\n",
    "zack.rename(columns = {\"Squad\": \"zack\"}, inplace = True) ## "
   ]
  },
  {
   "cell_type": "code",
   "execution_count": 15,
   "metadata": {},
   "outputs": [],
   "source": [
    "sorn.drop(['Solo','Duo'], axis=1, inplace = True) ##the next 3 commands are ran for each file\n",
    "sorn.drop([\"Rank Points\", \"Daily Wins\", \"Weekly Wins\" ,\"Rank Points Title\"], axis=0, inplace=True)##\n",
    "sorn.rename(columns = {\"Squad\": \"Sorn\"}, inplace = True) ## "
   ]
  },
  {
   "cell_type": "code",
   "execution_count": 16,
   "metadata": {},
   "outputs": [],
   "source": [
    "cort.drop(['Solo','Duo'], axis=1, inplace = True) ##the next 3 commands are ran for each file\n",
    "cort.drop([\"Rank Points\", \"Daily Wins\", \"Weekly Wins\" ,\"Rank Points Title\"], axis=0, inplace=True)##\n",
    "cort.rename(columns = {\"Squad\": \"Cort\"}, inplace = True) ## "
   ]
  },
  {
   "cell_type": "code",
   "execution_count": 17,
   "metadata": {},
   "outputs": [],
   "source": [
    "dopepugs = pd.concat([arctic, shat, sly, snky, nanm, zax, zack, sorn, cort], axis=1, sort=True)"
   ]
  },
  {
   "cell_type": "code",
   "execution_count": 18,
   "metadata": {},
   "outputs": [],
   "source": [
    "dopepugs.drop([\"Daily Kills\", \"Weekly Kills\"], axis=0, inplace=True)"
   ]
  },
  {
   "cell_type": "code",
   "execution_count": 19,
   "metadata": {},
   "outputs": [
    {
     "data": {
      "text/html": [
       "<div>\n",
       "<style scoped>\n",
       "    .dataframe tbody tr th:only-of-type {\n",
       "        vertical-align: middle;\n",
       "    }\n",
       "\n",
       "    .dataframe tbody tr th {\n",
       "        vertical-align: top;\n",
       "    }\n",
       "\n",
       "    .dataframe thead th {\n",
       "        text-align: right;\n",
       "    }\n",
       "</style>\n",
       "<table border=\"1\" class=\"dataframe\">\n",
       "  <thead>\n",
       "    <tr style=\"text-align: right;\">\n",
       "      <th></th>\n",
       "      <th>Arctic</th>\n",
       "      <th>Shat</th>\n",
       "      <th>Sly</th>\n",
       "      <th>Snky</th>\n",
       "      <th>Nanm</th>\n",
       "      <th>Zax</th>\n",
       "      <th>zack</th>\n",
       "      <th>Sorn</th>\n",
       "      <th>Cort</th>\n",
       "    </tr>\n",
       "    <tr>\n",
       "      <th>Statistics</th>\n",
       "      <th></th>\n",
       "      <th></th>\n",
       "      <th></th>\n",
       "      <th></th>\n",
       "      <th></th>\n",
       "      <th></th>\n",
       "      <th></th>\n",
       "      <th></th>\n",
       "      <th></th>\n",
       "    </tr>\n",
       "  </thead>\n",
       "  <tbody>\n",
       "    <tr>\n",
       "      <td>Assists</td>\n",
       "      <td>470</td>\n",
       "      <td>415</td>\n",
       "      <td>388</td>\n",
       "      <td>182</td>\n",
       "      <td>212</td>\n",
       "      <td>92</td>\n",
       "      <td>40</td>\n",
       "      <td>5</td>\n",
       "      <td>4</td>\n",
       "    </tr>\n",
       "    <tr>\n",
       "      <td>Avg Damage Dealt</td>\n",
       "      <td>203.82</td>\n",
       "      <td>167.37</td>\n",
       "      <td>165.2</td>\n",
       "      <td>163.45</td>\n",
       "      <td>136.3</td>\n",
       "      <td>85.08</td>\n",
       "      <td>114.96</td>\n",
       "      <td>128.72</td>\n",
       "      <td>26.71</td>\n",
       "    </tr>\n",
       "    <tr>\n",
       "      <td>Boosts</td>\n",
       "      <td>1972</td>\n",
       "      <td>1807</td>\n",
       "      <td>1790</td>\n",
       "      <td>668</td>\n",
       "      <td>1392</td>\n",
       "      <td>471</td>\n",
       "      <td>103</td>\n",
       "      <td>7</td>\n",
       "      <td>33</td>\n",
       "    </tr>\n",
       "    <tr>\n",
       "      <td>Damage Dealt</td>\n",
       "      <td>236222.66</td>\n",
       "      <td>239680.08</td>\n",
       "      <td>164373.73</td>\n",
       "      <td>74696.195</td>\n",
       "      <td>99904.48</td>\n",
       "      <td>27991.652</td>\n",
       "      <td>13910.629</td>\n",
       "      <td>901.01385</td>\n",
       "      <td>1228.7041</td>\n",
       "    </tr>\n",
       "    <tr>\n",
       "      <td>Days</td>\n",
       "      <td>206</td>\n",
       "      <td>234</td>\n",
       "      <td>218</td>\n",
       "      <td>78</td>\n",
       "      <td>157</td>\n",
       "      <td>94</td>\n",
       "      <td>29</td>\n",
       "      <td>3</td>\n",
       "      <td>10</td>\n",
       "    </tr>\n",
       "    <tr>\n",
       "      <td>Head Shot Kills</td>\n",
       "      <td>395</td>\n",
       "      <td>307</td>\n",
       "      <td>219</td>\n",
       "      <td>119</td>\n",
       "      <td>130</td>\n",
       "      <td>29</td>\n",
       "      <td>12</td>\n",
       "      <td>0</td>\n",
       "      <td>0</td>\n",
       "    </tr>\n",
       "    <tr>\n",
       "      <td>Headshot %</td>\n",
       "      <td>26.37%</td>\n",
       "      <td>18.65%</td>\n",
       "      <td>18.96%</td>\n",
       "      <td>23.85%</td>\n",
       "      <td>19.58%</td>\n",
       "      <td>16.11%</td>\n",
       "      <td>17.14%</td>\n",
       "      <td>0%</td>\n",
       "      <td>0%</td>\n",
       "    </tr>\n",
       "    <tr>\n",
       "      <td>Heals</td>\n",
       "      <td>3139</td>\n",
       "      <td>4385</td>\n",
       "      <td>2516</td>\n",
       "      <td>1326</td>\n",
       "      <td>2007</td>\n",
       "      <td>749</td>\n",
       "      <td>382</td>\n",
       "      <td>15</td>\n",
       "      <td>78</td>\n",
       "    </tr>\n",
       "    <tr>\n",
       "      <td>K/D</td>\n",
       "      <td>1.36</td>\n",
       "      <td>1.2</td>\n",
       "      <td>1.22</td>\n",
       "      <td>1.13</td>\n",
       "      <td>0.95</td>\n",
       "      <td>0.58</td>\n",
       "      <td>0.59</td>\n",
       "      <td>0.57</td>\n",
       "      <td>0.07</td>\n",
       "    </tr>\n",
       "    <tr>\n",
       "      <td>Kills</td>\n",
       "      <td>1498</td>\n",
       "      <td>1646</td>\n",
       "      <td>1155</td>\n",
       "      <td>499</td>\n",
       "      <td>664</td>\n",
       "      <td>180</td>\n",
       "      <td>70</td>\n",
       "      <td>4</td>\n",
       "      <td>3</td>\n",
       "    </tr>\n",
       "    <tr>\n",
       "      <td>Longest Kill</td>\n",
       "      <td>461.77765</td>\n",
       "      <td>430.9177</td>\n",
       "      <td>410.534</td>\n",
       "      <td>292.18732</td>\n",
       "      <td>354.3065</td>\n",
       "      <td>287.72366</td>\n",
       "      <td>217.98175</td>\n",
       "      <td>110.25433</td>\n",
       "      <td>24.15225</td>\n",
       "    </tr>\n",
       "    <tr>\n",
       "      <td>Longest Time Survived</td>\n",
       "      <td>2051.842</td>\n",
       "      <td>2180.98</td>\n",
       "      <td>1984.259</td>\n",
       "      <td>1948.513</td>\n",
       "      <td>2064.065</td>\n",
       "      <td>1979.101</td>\n",
       "      <td>2051.846</td>\n",
       "      <td>1486.288</td>\n",
       "      <td>1670.048</td>\n",
       "    </tr>\n",
       "    <tr>\n",
       "      <td>Losses</td>\n",
       "      <td>1117</td>\n",
       "      <td>1376</td>\n",
       "      <td>959</td>\n",
       "      <td>448</td>\n",
       "      <td>709</td>\n",
       "      <td>320</td>\n",
       "      <td>119</td>\n",
       "      <td>7</td>\n",
       "      <td>46</td>\n",
       "    </tr>\n",
       "    <tr>\n",
       "      <td>Max Kill Streaks</td>\n",
       "      <td>4</td>\n",
       "      <td>4</td>\n",
       "      <td>4</td>\n",
       "      <td>3</td>\n",
       "      <td>4</td>\n",
       "      <td>3</td>\n",
       "      <td>3</td>\n",
       "      <td>1</td>\n",
       "      <td>1</td>\n",
       "    </tr>\n",
       "    <tr>\n",
       "      <td>Most Survival Time</td>\n",
       "      <td>2051.842</td>\n",
       "      <td>2180.98</td>\n",
       "      <td>1984.259</td>\n",
       "      <td>1948.513</td>\n",
       "      <td>2064.065</td>\n",
       "      <td>1979.101</td>\n",
       "      <td>2051.846</td>\n",
       "      <td>1486.288</td>\n",
       "      <td>1670.048</td>\n",
       "    </tr>\n",
       "    <tr>\n",
       "      <td>Revives</td>\n",
       "      <td>281</td>\n",
       "      <td>455</td>\n",
       "      <td>155</td>\n",
       "      <td>104</td>\n",
       "      <td>221</td>\n",
       "      <td>83</td>\n",
       "      <td>19</td>\n",
       "      <td>2</td>\n",
       "      <td>2</td>\n",
       "    </tr>\n",
       "    <tr>\n",
       "      <td>Ride Distance</td>\n",
       "      <td>1610093.4</td>\n",
       "      <td>2157408.8</td>\n",
       "      <td>1572710</td>\n",
       "      <td>486170.5</td>\n",
       "      <td>714986.3</td>\n",
       "      <td>524297</td>\n",
       "      <td>204585.53</td>\n",
       "      <td>156.07877</td>\n",
       "      <td>63669.613</td>\n",
       "    </tr>\n",
       "    <tr>\n",
       "      <td>Road Kills</td>\n",
       "      <td>1</td>\n",
       "      <td>4</td>\n",
       "      <td>5</td>\n",
       "      <td>4</td>\n",
       "      <td>0</td>\n",
       "      <td>0</td>\n",
       "      <td>0</td>\n",
       "      <td>0</td>\n",
       "      <td>0</td>\n",
       "    </tr>\n",
       "    <tr>\n",
       "      <td>Round Most Kills</td>\n",
       "      <td>9</td>\n",
       "      <td>8</td>\n",
       "      <td>9</td>\n",
       "      <td>7</td>\n",
       "      <td>9</td>\n",
       "      <td>6</td>\n",
       "      <td>5</td>\n",
       "      <td>2</td>\n",
       "      <td>1</td>\n",
       "    </tr>\n",
       "    <tr>\n",
       "      <td>Rounds Played</td>\n",
       "      <td>1159</td>\n",
       "      <td>1432</td>\n",
       "      <td>995</td>\n",
       "      <td>457</td>\n",
       "      <td>733</td>\n",
       "      <td>329</td>\n",
       "      <td>121</td>\n",
       "      <td>7</td>\n",
       "      <td>46</td>\n",
       "    </tr>\n",
       "    <tr>\n",
       "      <td>Suicides</td>\n",
       "      <td>16</td>\n",
       "      <td>42</td>\n",
       "      <td>14</td>\n",
       "      <td>6</td>\n",
       "      <td>10</td>\n",
       "      <td>4</td>\n",
       "      <td>4</td>\n",
       "      <td>0</td>\n",
       "      <td>2</td>\n",
       "    </tr>\n",
       "    <tr>\n",
       "      <td>Swim Distance</td>\n",
       "      <td>2830.028</td>\n",
       "      <td>4966.6914</td>\n",
       "      <td>2703.0044</td>\n",
       "      <td>1740.3292</td>\n",
       "      <td>2317.7866</td>\n",
       "      <td>1035.3792</td>\n",
       "      <td>395.86472</td>\n",
       "      <td>0</td>\n",
       "      <td>92.01848</td>\n",
       "    </tr>\n",
       "    <tr>\n",
       "      <td>Team Kills</td>\n",
       "      <td>22</td>\n",
       "      <td>47</td>\n",
       "      <td>23</td>\n",
       "      <td>9</td>\n",
       "      <td>15</td>\n",
       "      <td>4</td>\n",
       "      <td>5</td>\n",
       "      <td>0</td>\n",
       "      <td>2</td>\n",
       "    </tr>\n",
       "    <tr>\n",
       "      <td>Time Survived</td>\n",
       "      <td>969792.2</td>\n",
       "      <td>1284232.6</td>\n",
       "      <td>930141.94</td>\n",
       "      <td>328190.22</td>\n",
       "      <td>637273.3</td>\n",
       "      <td>284434.3</td>\n",
       "      <td>109724.04</td>\n",
       "      <td>4580.869</td>\n",
       "      <td>37748.414</td>\n",
       "    </tr>\n",
       "    <tr>\n",
       "      <td>Top10s</td>\n",
       "      <td>531</td>\n",
       "      <td>654</td>\n",
       "      <td>509</td>\n",
       "      <td>196</td>\n",
       "      <td>350</td>\n",
       "      <td>187</td>\n",
       "      <td>74</td>\n",
       "      <td>2</td>\n",
       "      <td>28</td>\n",
       "    </tr>\n",
       "    <tr>\n",
       "      <td>Vehicle Destroys</td>\n",
       "      <td>23</td>\n",
       "      <td>9</td>\n",
       "      <td>29</td>\n",
       "      <td>4</td>\n",
       "      <td>15</td>\n",
       "      <td>3</td>\n",
       "      <td>1</td>\n",
       "      <td>0</td>\n",
       "      <td>0</td>\n",
       "    </tr>\n",
       "    <tr>\n",
       "      <td>Walk Distance</td>\n",
       "      <td>1545281.6</td>\n",
       "      <td>1975185</td>\n",
       "      <td>1517812</td>\n",
       "      <td>505191</td>\n",
       "      <td>1039509.8</td>\n",
       "      <td>461860.53</td>\n",
       "      <td>170913.25</td>\n",
       "      <td>9665.322</td>\n",
       "      <td>63900.125</td>\n",
       "    </tr>\n",
       "    <tr>\n",
       "      <td>Weapons Acquired</td>\n",
       "      <td>5043</td>\n",
       "      <td>7226</td>\n",
       "      <td>4683</td>\n",
       "      <td>1551</td>\n",
       "      <td>2909</td>\n",
       "      <td>1514</td>\n",
       "      <td>433</td>\n",
       "      <td>23</td>\n",
       "      <td>204</td>\n",
       "    </tr>\n",
       "    <tr>\n",
       "      <td>Wins</td>\n",
       "      <td>55</td>\n",
       "      <td>63</td>\n",
       "      <td>48</td>\n",
       "      <td>17</td>\n",
       "      <td>32</td>\n",
       "      <td>19</td>\n",
       "      <td>3</td>\n",
       "      <td>0</td>\n",
       "      <td>3</td>\n",
       "    </tr>\n",
       "    <tr>\n",
       "      <td>dBNOs</td>\n",
       "      <td>1489</td>\n",
       "      <td>1575</td>\n",
       "      <td>1058</td>\n",
       "      <td>488</td>\n",
       "      <td>587</td>\n",
       "      <td>179</td>\n",
       "      <td>78</td>\n",
       "      <td>5</td>\n",
       "      <td>8</td>\n",
       "    </tr>\n",
       "  </tbody>\n",
       "</table>\n",
       "</div>"
      ],
      "text/plain": [
       "                          Arctic       Shat        Sly       Snky       Nanm  \\\n",
       "Statistics                                                                     \n",
       "Assists                      470        415        388        182        212   \n",
       "Avg Damage Dealt          203.82     167.37      165.2     163.45      136.3   \n",
       "Boosts                      1972       1807       1790        668       1392   \n",
       "Damage Dealt           236222.66  239680.08  164373.73  74696.195   99904.48   \n",
       "Days                         206        234        218         78        157   \n",
       "Head Shot Kills              395        307        219        119        130   \n",
       "Headshot %                26.37%     18.65%     18.96%     23.85%     19.58%   \n",
       "Heals                       3139       4385       2516       1326       2007   \n",
       "K/D                         1.36        1.2       1.22       1.13       0.95   \n",
       "Kills                       1498       1646       1155        499        664   \n",
       "Longest Kill           461.77765   430.9177    410.534  292.18732   354.3065   \n",
       "Longest Time Survived   2051.842    2180.98   1984.259   1948.513   2064.065   \n",
       "Losses                      1117       1376        959        448        709   \n",
       "Max Kill Streaks               4          4          4          3          4   \n",
       "Most Survival Time      2051.842    2180.98   1984.259   1948.513   2064.065   \n",
       "Revives                      281        455        155        104        221   \n",
       "Ride Distance          1610093.4  2157408.8    1572710   486170.5   714986.3   \n",
       "Road Kills                     1          4          5          4          0   \n",
       "Round Most Kills               9          8          9          7          9   \n",
       "Rounds Played               1159       1432        995        457        733   \n",
       "Suicides                      16         42         14          6         10   \n",
       "Swim Distance           2830.028  4966.6914  2703.0044  1740.3292  2317.7866   \n",
       "Team Kills                    22         47         23          9         15   \n",
       "Time Survived           969792.2  1284232.6  930141.94  328190.22   637273.3   \n",
       "Top10s                       531        654        509        196        350   \n",
       "Vehicle Destroys              23          9         29          4         15   \n",
       "Walk Distance          1545281.6    1975185    1517812     505191  1039509.8   \n",
       "Weapons Acquired            5043       7226       4683       1551       2909   \n",
       "Wins                          55         63         48         17         32   \n",
       "dBNOs                       1489       1575       1058        488        587   \n",
       "\n",
       "                             Zax       zack       Sorn       Cort  \n",
       "Statistics                                                         \n",
       "Assists                       92         40          5          4  \n",
       "Avg Damage Dealt           85.08     114.96     128.72      26.71  \n",
       "Boosts                       471        103          7         33  \n",
       "Damage Dealt           27991.652  13910.629  901.01385  1228.7041  \n",
       "Days                          94         29          3         10  \n",
       "Head Shot Kills               29         12          0          0  \n",
       "Headshot %                16.11%     17.14%         0%         0%  \n",
       "Heals                        749        382         15         78  \n",
       "K/D                         0.58       0.59       0.57       0.07  \n",
       "Kills                        180         70          4          3  \n",
       "Longest Kill           287.72366  217.98175  110.25433   24.15225  \n",
       "Longest Time Survived   1979.101   2051.846   1486.288   1670.048  \n",
       "Losses                       320        119          7         46  \n",
       "Max Kill Streaks               3          3          1          1  \n",
       "Most Survival Time      1979.101   2051.846   1486.288   1670.048  \n",
       "Revives                       83         19          2          2  \n",
       "Ride Distance             524297  204585.53  156.07877  63669.613  \n",
       "Road Kills                     0          0          0          0  \n",
       "Round Most Kills               6          5          2          1  \n",
       "Rounds Played                329        121          7         46  \n",
       "Suicides                       4          4          0          2  \n",
       "Swim Distance          1035.3792  395.86472          0   92.01848  \n",
       "Team Kills                     4          5          0          2  \n",
       "Time Survived           284434.3  109724.04   4580.869  37748.414  \n",
       "Top10s                       187         74          2         28  \n",
       "Vehicle Destroys               3          1          0          0  \n",
       "Walk Distance          461860.53  170913.25   9665.322  63900.125  \n",
       "Weapons Acquired            1514        433         23        204  \n",
       "Wins                          19          3          0          3  \n",
       "dBNOs                        179         78          5          8  "
      ]
     },
     "execution_count": 19,
     "metadata": {},
     "output_type": "execute_result"
    }
   ],
   "source": [
    "dopepugs"
   ]
  },
  {
   "cell_type": "code",
   "execution_count": 20,
   "metadata": {},
   "outputs": [],
   "source": [
    "from pandas.plotting import scatter_matrix"
   ]
  },
  {
   "cell_type": "code",
   "execution_count": 21,
   "metadata": {},
   "outputs": [],
   "source": [
    "dopepugs.to_excel('dopepugs.xls') ## create xls file for easy viewing"
   ]
  },
  {
   "cell_type": "code",
   "execution_count": 22,
   "metadata": {},
   "outputs": [
    {
     "data": {
      "text/plain": [
       "Index(['Assists', 'Avg Damage Dealt', 'Boosts', 'Damage Dealt', 'Days',\n",
       "       'Head Shot Kills', 'Headshot %', 'Heals', 'K/D', 'Kills',\n",
       "       'Longest Kill', 'Longest Time Survived', 'Losses', 'Max Kill Streaks',\n",
       "       'Most Survival Time', 'Revives', 'Ride Distance', 'Road Kills',\n",
       "       'Round Most Kills', 'Rounds Played', 'Suicides', 'Swim Distance',\n",
       "       'Team Kills', 'Time Survived', 'Top10s', 'Vehicle Destroys',\n",
       "       'Walk Distance', 'Weapons Acquired', 'Wins', 'dBNOs'],\n",
       "      dtype='object', name='Statistics')"
      ]
     },
     "execution_count": 22,
     "metadata": {},
     "output_type": "execute_result"
    }
   ],
   "source": [
    "dopepugs.index"
   ]
  },
  {
   "cell_type": "code",
   "execution_count": 42,
   "metadata": {},
   "outputs": [],
   "source": [
    "KDR = dopepugs.iloc[:,8].astype(float)"
   ]
  },
  {
   "cell_type": "code",
   "execution_count": 43,
   "metadata": {},
   "outputs": [
    {
     "data": {
      "image/png": "[encoded data removed]",
      "text/plain": [
       "<Figure size 432x288 with 1 Axes>"
      ]
     },
     "metadata": {
      "needs_background": "light"
     },
     "output_type": "display_data"
    }
   ],
   "source": [
    "KDR.plot(kind='bar', colormap=\"coolwarm\").legend() #Who has the highest Kill death ratio lifetime \n",
    "plt.axhline(y=1, color='green', linestyle='--', linewidth=1.5);"
   ]
  },
  {
   "cell_type": "code",
   "execution_count": 25,
   "metadata": {},
   "outputs": [],
   "source": [
    "assist=dopepugs.iloc[0].astype(float)\n",
    "games=dopepugs.iloc[19].astype(float)"
   ]
  },
  {
   "cell_type": "code",
   "execution_count": 26,
   "metadata": {},
   "outputs": [],
   "source": [
    "import seaborn as sns"
   ]
  },
  {
   "cell_type": "code",
   "execution_count": 30,
   "metadata": {},
   "outputs": [],
   "source": [
    "dopepugs = dopepugs.T ##Data was not tidy, need to transpose the COL/ROWS "
   ]
  },
  {
   "cell_type": "code",
   "execution_count": 50,
   "metadata": {
    "scrolled": true
   },
   "outputs": [],
   "source": [
    "dopepugs.to_excel('dopepugs_tidy.xls') ## create xls file for easy viewing"
   ]
  },
  {
   "cell_type": "code",
   "execution_count": 69,
   "metadata": {},
   "outputs": [],
   "source": [
    "players = dopepugs.index"
   ]
  },
  {
   "cell_type": "code",
   "execution_count": 67,
   "metadata": {},
   "outputs": [
    {
     "data": {
      "text/plain": [
       "Index(['Arctic', 'Shat', 'Sly', 'Snky', 'Nanm', 'Zax', 'zack', 'Sorn', 'Cort'], dtype='object')"
      ]
     },
     "execution_count": 67,
     "metadata": {},
     "output_type": "execute_result"
    }
   ],
   "source": [
    "players"
   ]
  },
  {
   "cell_type": "code",
   "execution_count": 79,
   "metadata": {},
   "outputs": [
    {
     "ename": "ValueError",
     "evalue": "The truth value of an array with more than one element is ambiguous. Use a.any() or a.all()",
     "output_type": "error",
     "traceback": [
      "\u001b[1;31m---------------------------------------------------------------------------\u001b[0m",
      "\u001b[1;31mValueError\u001b[0m                                Traceback (most recent call last)",
      "\u001b[1;32m<ipython-input-79-6757b9448dcf>\u001b[0m in \u001b[0;36m<module>\u001b[1;34m\u001b[0m\n\u001b[1;32m----> 1\u001b[1;33m \u001b[0msns\u001b[0m\u001b[1;33m.\u001b[0m\u001b[0mcatplot\u001b[0m\u001b[1;33m(\u001b[0m\u001b[0mx\u001b[0m\u001b[1;33m=\u001b[0m\u001b[0mplayers\u001b[0m\u001b[1;33m,\u001b[0m \u001b[0my\u001b[0m\u001b[1;33m=\u001b[0m\u001b[0mKDR\u001b[0m\u001b[1;33m,\u001b[0m \u001b[0mhue\u001b[0m\u001b[1;33m=\u001b[0m\u001b[0mKDR\u001b[0m\u001b[1;33m,\u001b[0m \u001b[0mkind\u001b[0m\u001b[1;33m=\u001b[0m\u001b[1;34m\"bar\"\u001b[0m\u001b[1;33m,\u001b[0m \u001b[0mdata\u001b[0m\u001b[1;33m=\u001b[0m\u001b[0mdopepugs\u001b[0m\u001b[1;33m)\u001b[0m\u001b[1;33m;\u001b[0m\u001b[1;33m\u001b[0m\u001b[1;33m\u001b[0m\u001b[0m\n\u001b[0m",
      "\u001b[1;32m~\\Anaconda3\\lib\\site-packages\\seaborn\\categorical.py\u001b[0m in \u001b[0;36mcatplot\u001b[1;34m(x, y, hue, data, row, col, col_wrap, estimator, ci, n_boot, units, order, hue_order, row_order, col_order, kind, height, aspect, orient, color, palette, legend, legend_out, sharex, sharey, margin_titles, facet_kws, **kwargs)\u001b[0m\n\u001b[0;32m   3753\u001b[0m \u001b[1;33m\u001b[0m\u001b[0m\n\u001b[0;32m   3754\u001b[0m     \u001b[1;31m# Draw the plot onto the facets\u001b[0m\u001b[1;33m\u001b[0m\u001b[1;33m\u001b[0m\u001b[1;33m\u001b[0m\u001b[0m\n\u001b[1;32m-> 3755\u001b[1;33m     \u001b[0mg\u001b[0m\u001b[1;33m.\u001b[0m\u001b[0mmap_dataframe\u001b[0m\u001b[1;33m(\u001b[0m\u001b[0mplot_func\u001b[0m\u001b[1;33m,\u001b[0m \u001b[0mx\u001b[0m\u001b[1;33m,\u001b[0m \u001b[0my\u001b[0m\u001b[1;33m,\u001b[0m \u001b[0mhue\u001b[0m\u001b[1;33m,\u001b[0m \u001b[1;33m**\u001b[0m\u001b[0mplot_kws\u001b[0m\u001b[1;33m)\u001b[0m\u001b[1;33m\u001b[0m\u001b[1;33m\u001b[0m\u001b[0m\n\u001b[0m\u001b[0;32m   3756\u001b[0m \u001b[1;33m\u001b[0m\u001b[0m\n\u001b[0;32m   3757\u001b[0m     \u001b[1;31m# Special case axis labels for a count type plot\u001b[0m\u001b[1;33m\u001b[0m\u001b[1;33m\u001b[0m\u001b[1;33m\u001b[0m\u001b[0m\n",
      "\u001b[1;32m~\\Anaconda3\\lib\\site-packages\\seaborn\\axisgrid.py\u001b[0m in \u001b[0;36mmap_dataframe\u001b[1;34m(self, func, *args, **kwargs)\u001b[0m\n\u001b[0;32m    821\u001b[0m \u001b[1;33m\u001b[0m\u001b[0m\n\u001b[0;32m    822\u001b[0m         \u001b[1;31m# Finalize the annotations and layout\u001b[0m\u001b[1;33m\u001b[0m\u001b[1;33m\u001b[0m\u001b[1;33m\u001b[0m\u001b[0m\n\u001b[1;32m--> 823\u001b[1;33m         \u001b[0mself\u001b[0m\u001b[1;33m.\u001b[0m\u001b[0m_finalize_grid\u001b[0m\u001b[1;33m(\u001b[0m\u001b[0margs\u001b[0m\u001b[1;33m[\u001b[0m\u001b[1;33m:\u001b[0m\u001b[1;36m2\u001b[0m\u001b[1;33m]\u001b[0m\u001b[1;33m)\u001b[0m\u001b[1;33m\u001b[0m\u001b[1;33m\u001b[0m\u001b[0m\n\u001b[0m\u001b[0;32m    824\u001b[0m \u001b[1;33m\u001b[0m\u001b[0m\n\u001b[0;32m    825\u001b[0m         \u001b[1;32mreturn\u001b[0m \u001b[0mself\u001b[0m\u001b[1;33m\u001b[0m\u001b[1;33m\u001b[0m\u001b[0m\n",
      "\u001b[1;32m~\\Anaconda3\\lib\\site-packages\\seaborn\\axisgrid.py\u001b[0m in \u001b[0;36m_finalize_grid\u001b[1;34m(self, axlabels)\u001b[0m\n\u001b[0;32m    844\u001b[0m     \u001b[1;32mdef\u001b[0m \u001b[0m_finalize_grid\u001b[0m\u001b[1;33m(\u001b[0m\u001b[0mself\u001b[0m\u001b[1;33m,\u001b[0m \u001b[0maxlabels\u001b[0m\u001b[1;33m)\u001b[0m\u001b[1;33m:\u001b[0m\u001b[1;33m\u001b[0m\u001b[1;33m\u001b[0m\u001b[0m\n\u001b[0;32m    845\u001b[0m         \u001b[1;34m\"\"\"Finalize the annotations and layout.\"\"\"\u001b[0m\u001b[1;33m\u001b[0m\u001b[1;33m\u001b[0m\u001b[0m\n\u001b[1;32m--> 846\u001b[1;33m         \u001b[0mself\u001b[0m\u001b[1;33m.\u001b[0m\u001b[0mset_axis_labels\u001b[0m\u001b[1;33m(\u001b[0m\u001b[1;33m*\u001b[0m\u001b[0maxlabels\u001b[0m\u001b[1;33m)\u001b[0m\u001b[1;33m\u001b[0m\u001b[1;33m\u001b[0m\u001b[0m\n\u001b[0m\u001b[0;32m    847\u001b[0m         \u001b[0mself\u001b[0m\u001b[1;33m.\u001b[0m\u001b[0mset_titles\u001b[0m\u001b[1;33m(\u001b[0m\u001b[1;33m)\u001b[0m\u001b[1;33m\u001b[0m\u001b[1;33m\u001b[0m\u001b[0m\n\u001b[0;32m    848\u001b[0m         \u001b[0mself\u001b[0m\u001b[1;33m.\u001b[0m\u001b[0mfig\u001b[0m\u001b[1;33m.\u001b[0m\u001b[0mtight_layout\u001b[0m\u001b[1;33m(\u001b[0m\u001b[1;33m)\u001b[0m\u001b[1;33m\u001b[0m\u001b[1;33m\u001b[0m\u001b[0m\n",
      "\u001b[1;32m~\\Anaconda3\\lib\\site-packages\\seaborn\\axisgrid.py\u001b[0m in \u001b[0;36mset_axis_labels\u001b[1;34m(self, x_var, y_var)\u001b[0m\n\u001b[0;32m    870\u001b[0m         \u001b[1;32mif\u001b[0m \u001b[0mx_var\u001b[0m \u001b[1;32mis\u001b[0m \u001b[1;32mnot\u001b[0m \u001b[1;32mNone\u001b[0m\u001b[1;33m:\u001b[0m\u001b[1;33m\u001b[0m\u001b[1;33m\u001b[0m\u001b[0m\n\u001b[0;32m    871\u001b[0m             \u001b[0mself\u001b[0m\u001b[1;33m.\u001b[0m\u001b[0m_x_var\u001b[0m \u001b[1;33m=\u001b[0m \u001b[0mx_var\u001b[0m\u001b[1;33m\u001b[0m\u001b[1;33m\u001b[0m\u001b[0m\n\u001b[1;32m--> 872\u001b[1;33m             \u001b[0mself\u001b[0m\u001b[1;33m.\u001b[0m\u001b[0mset_xlabels\u001b[0m\u001b[1;33m(\u001b[0m\u001b[0mx_var\u001b[0m\u001b[1;33m)\u001b[0m\u001b[1;33m\u001b[0m\u001b[1;33m\u001b[0m\u001b[0m\n\u001b[0m\u001b[0;32m    873\u001b[0m         \u001b[1;32mif\u001b[0m \u001b[0my_var\u001b[0m \u001b[1;32mis\u001b[0m \u001b[1;32mnot\u001b[0m \u001b[1;32mNone\u001b[0m\u001b[1;33m:\u001b[0m\u001b[1;33m\u001b[0m\u001b[1;33m\u001b[0m\u001b[0m\n\u001b[0;32m    874\u001b[0m             \u001b[0mself\u001b[0m\u001b[1;33m.\u001b[0m\u001b[0m_y_var\u001b[0m \u001b[1;33m=\u001b[0m \u001b[0my_var\u001b[0m\u001b[1;33m\u001b[0m\u001b[1;33m\u001b[0m\u001b[0m\n",
      "\u001b[1;32m~\\Anaconda3\\lib\\site-packages\\seaborn\\axisgrid.py\u001b[0m in \u001b[0;36mset_xlabels\u001b[1;34m(self, label, **kwargs)\u001b[0m\n\u001b[0;32m    881\u001b[0m             \u001b[0mlabel\u001b[0m \u001b[1;33m=\u001b[0m \u001b[0mself\u001b[0m\u001b[1;33m.\u001b[0m\u001b[0m_x_var\u001b[0m\u001b[1;33m\u001b[0m\u001b[1;33m\u001b[0m\u001b[0m\n\u001b[0;32m    882\u001b[0m         \u001b[1;32mfor\u001b[0m \u001b[0max\u001b[0m \u001b[1;32min\u001b[0m \u001b[0mself\u001b[0m\u001b[1;33m.\u001b[0m\u001b[0m_bottom_axes\u001b[0m\u001b[1;33m:\u001b[0m\u001b[1;33m\u001b[0m\u001b[1;33m\u001b[0m\u001b[0m\n\u001b[1;32m--> 883\u001b[1;33m             \u001b[0max\u001b[0m\u001b[1;33m.\u001b[0m\u001b[0mset_xlabel\u001b[0m\u001b[1;33m(\u001b[0m\u001b[0mlabel\u001b[0m\u001b[1;33m,\u001b[0m \u001b[1;33m**\u001b[0m\u001b[0mkwargs\u001b[0m\u001b[1;33m)\u001b[0m\u001b[1;33m\u001b[0m\u001b[1;33m\u001b[0m\u001b[0m\n\u001b[0m\u001b[0;32m    884\u001b[0m         \u001b[1;32mreturn\u001b[0m \u001b[0mself\u001b[0m\u001b[1;33m\u001b[0m\u001b[1;33m\u001b[0m\u001b[0m\n\u001b[0;32m    885\u001b[0m \u001b[1;33m\u001b[0m\u001b[0m\n",
      "\u001b[1;32m~\\Anaconda3\\lib\\site-packages\\matplotlib\\axes\\_axes.py\u001b[0m in \u001b[0;36mset_xlabel\u001b[1;34m(self, xlabel, fontdict, labelpad, **kwargs)\u001b[0m\n\u001b[0;32m    245\u001b[0m         \u001b[1;32mif\u001b[0m \u001b[0mlabelpad\u001b[0m \u001b[1;32mis\u001b[0m \u001b[1;32mnot\u001b[0m \u001b[1;32mNone\u001b[0m\u001b[1;33m:\u001b[0m\u001b[1;33m\u001b[0m\u001b[1;33m\u001b[0m\u001b[0m\n\u001b[0;32m    246\u001b[0m             \u001b[0mself\u001b[0m\u001b[1;33m.\u001b[0m\u001b[0mxaxis\u001b[0m\u001b[1;33m.\u001b[0m\u001b[0mlabelpad\u001b[0m \u001b[1;33m=\u001b[0m \u001b[0mlabelpad\u001b[0m\u001b[1;33m\u001b[0m\u001b[1;33m\u001b[0m\u001b[0m\n\u001b[1;32m--> 247\u001b[1;33m         \u001b[1;32mreturn\u001b[0m \u001b[0mself\u001b[0m\u001b[1;33m.\u001b[0m\u001b[0mxaxis\u001b[0m\u001b[1;33m.\u001b[0m\u001b[0mset_label_text\u001b[0m\u001b[1;33m(\u001b[0m\u001b[0mxlabel\u001b[0m\u001b[1;33m,\u001b[0m \u001b[0mfontdict\u001b[0m\u001b[1;33m,\u001b[0m \u001b[1;33m**\u001b[0m\u001b[0mkwargs\u001b[0m\u001b[1;33m)\u001b[0m\u001b[1;33m\u001b[0m\u001b[1;33m\u001b[0m\u001b[0m\n\u001b[0m\u001b[0;32m    248\u001b[0m \u001b[1;33m\u001b[0m\u001b[0m\n\u001b[0;32m    249\u001b[0m     \u001b[1;32mdef\u001b[0m \u001b[0mget_ylabel\u001b[0m\u001b[1;33m(\u001b[0m\u001b[0mself\u001b[0m\u001b[1;33m)\u001b[0m\u001b[1;33m:\u001b[0m\u001b[1;33m\u001b[0m\u001b[1;33m\u001b[0m\u001b[0m\n",
      "\u001b[1;32m~\\Anaconda3\\lib\\site-packages\\matplotlib\\axis.py\u001b[0m in \u001b[0;36mset_label_text\u001b[1;34m(self, label, fontdict, **kwargs)\u001b[0m\n\u001b[0;32m   1594\u001b[0m         \"\"\"\n\u001b[0;32m   1595\u001b[0m         \u001b[0mself\u001b[0m\u001b[1;33m.\u001b[0m\u001b[0misDefault_label\u001b[0m \u001b[1;33m=\u001b[0m \u001b[1;32mFalse\u001b[0m\u001b[1;33m\u001b[0m\u001b[1;33m\u001b[0m\u001b[0m\n\u001b[1;32m-> 1596\u001b[1;33m         \u001b[0mself\u001b[0m\u001b[1;33m.\u001b[0m\u001b[0mlabel\u001b[0m\u001b[1;33m.\u001b[0m\u001b[0mset_text\u001b[0m\u001b[1;33m(\u001b[0m\u001b[0mlabel\u001b[0m\u001b[1;33m)\u001b[0m\u001b[1;33m\u001b[0m\u001b[1;33m\u001b[0m\u001b[0m\n\u001b[0m\u001b[0;32m   1597\u001b[0m         \u001b[1;32mif\u001b[0m \u001b[0mfontdict\u001b[0m \u001b[1;32mis\u001b[0m \u001b[1;32mnot\u001b[0m \u001b[1;32mNone\u001b[0m\u001b[1;33m:\u001b[0m\u001b[1;33m\u001b[0m\u001b[1;33m\u001b[0m\u001b[0m\n\u001b[0;32m   1598\u001b[0m             \u001b[0mself\u001b[0m\u001b[1;33m.\u001b[0m\u001b[0mlabel\u001b[0m\u001b[1;33m.\u001b[0m\u001b[0mupdate\u001b[0m\u001b[1;33m(\u001b[0m\u001b[0mfontdict\u001b[0m\u001b[1;33m)\u001b[0m\u001b[1;33m\u001b[0m\u001b[1;33m\u001b[0m\u001b[0m\n",
      "\u001b[1;32m~\\Anaconda3\\lib\\site-packages\\matplotlib\\text.py\u001b[0m in \u001b[0;36mset_text\u001b[1;34m(self, s)\u001b[0m\n\u001b[0;32m   1148\u001b[0m         \u001b[1;32mif\u001b[0m \u001b[0ms\u001b[0m \u001b[1;32mis\u001b[0m \u001b[1;32mNone\u001b[0m\u001b[1;33m:\u001b[0m\u001b[1;33m\u001b[0m\u001b[1;33m\u001b[0m\u001b[0m\n\u001b[0;32m   1149\u001b[0m             \u001b[0ms\u001b[0m \u001b[1;33m=\u001b[0m \u001b[1;34m''\u001b[0m\u001b[1;33m\u001b[0m\u001b[1;33m\u001b[0m\u001b[0m\n\u001b[1;32m-> 1150\u001b[1;33m         \u001b[1;32mif\u001b[0m \u001b[0ms\u001b[0m \u001b[1;33m!=\u001b[0m \u001b[0mself\u001b[0m\u001b[1;33m.\u001b[0m\u001b[0m_text\u001b[0m\u001b[1;33m:\u001b[0m\u001b[1;33m\u001b[0m\u001b[1;33m\u001b[0m\u001b[0m\n\u001b[0m\u001b[0;32m   1151\u001b[0m             \u001b[0mself\u001b[0m\u001b[1;33m.\u001b[0m\u001b[0m_text\u001b[0m \u001b[1;33m=\u001b[0m \u001b[0mstr\u001b[0m\u001b[1;33m(\u001b[0m\u001b[0ms\u001b[0m\u001b[1;33m)\u001b[0m\u001b[1;33m\u001b[0m\u001b[1;33m\u001b[0m\u001b[0m\n\u001b[0;32m   1152\u001b[0m             \u001b[0mself\u001b[0m\u001b[1;33m.\u001b[0m\u001b[0mstale\u001b[0m \u001b[1;33m=\u001b[0m \u001b[1;32mTrue\u001b[0m\u001b[1;33m\u001b[0m\u001b[1;33m\u001b[0m\u001b[0m\n",
      "\u001b[1;31mValueError\u001b[0m: The truth value of an array with more than one element is ambiguous. Use a.any() or a.all()"
     ]
    },
    {
     "data": {
      "image/png": "[encoded data removed]",
      "text/plain": [
       "<Figure size 360x360 with 1 Axes>"
      ]
     },
     "metadata": {
      "needs_background": "light"
     },
     "output_type": "display_data"
    }
   ],
   "source": [
    "sns.catplot(x=players, y=KDR, hue=KDR, kind=\"bar\", data=dopepugs);"
   ]
  },
  {
   "cell_type": "code",
   "execution_count": null,
   "metadata": {},
   "outputs": [],
   "source": []
  }
 ],
 "metadata": {
  "kernelspec": {
   "display_name": "Python 3",
   "language": "python",
   "name": "python3"
  },
  "language_info": {
   "codemirror_mode": {
    "name": "ipython",
    "version": 3
   },
   "file_extension": ".py",
   "mimetype": "text/x-python",
   "name": "python",
   "nbconvert_exporter": "python",
   "pygments_lexer": "ipython3",
   "version": "3.7.4"
  }
 },
 "nbformat": 4,
 "nbformat_minor": 2
}
